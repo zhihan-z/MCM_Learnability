{
 "cells": [
  {
   "cell_type": "code",
   "execution_count": 1,
   "id": "86141ca3",
   "metadata": {},
   "outputs": [],
   "source": [
    "from qiskit import QuantumCircuit, execute\n",
    "from qiskit_aer import AerSimulator\n",
    "from qiskit.visualization import plot_histogram\n",
    "from qiskit_aer.noise import NoiseModel, QuantumError, pauli_error\n",
    "from qiskit.quantum_info import Operator, PTM, Pauli, random_quantum_channel\n",
    "import numpy as np\n",
    "from collections import defaultdict"
   ]
  },
  {
   "cell_type": "code",
   "execution_count": 2,
   "id": "33bc4061",
   "metadata": {},
   "outputs": [],
   "source": [
    "id_gate = Operator(np.eye(4))\n",
    "id_gate3 = Operator(np.eye(8))\n",
    "\n",
    "\n",
    "def noisy_mcm(circ, cbit):\n",
    "    \"\"\"Noisy mid-circuit measurement.\n",
    "    The measurement is in the measure-and-prepare fashion:\n",
    "    We apply a Pauli noise, then an ideal mid-circuit measurement, followed by another Pauli noise.\n",
    "    \"\"\"\n",
    "    circ.cnot(0, 1)\n",
    "    circ.unitary(id_gate, [0, 1], label='pre')\n",
    "    circ.measure(1, cbit)\n",
    "    circ.unitary(id_gate, [0, 1], label='post')\n",
    "    \n",
    "\n",
    "def compiled_mcm(circ, cbit):\n",
    "    \"\"\"Noisy mid-circuit measurement.\n",
    "    The noise is a general quantum instrument and we perform randomized compiling on it.\n",
    "    \"\"\"\n",
    "    p = np.random.choice(['I', 'X', 'Y', 'Z'])\n",
    "    alpha, beta, gamma = np.random.randint(2, size=3)\n",
    "    if alpha == 0 and beta == 0:\n",
    "        p12 = 'I' + p\n",
    "    elif alpha == 0 and beta == 1:\n",
    "        p12 = 'Z' + p\n",
    "    elif alpha == 1 and beta == 0:\n",
    "        p12 = 'X' + p\n",
    "    else:\n",
    "        p12 = 'Y' + p\n",
    "    cn_circ = QuantumCircuit(2, 0)\n",
    "    cn_circ.cnot(0, 1)\n",
    "    p12 = Pauli(p12).evolve(cn_circ, frame='h').to_label()\n",
    "    if p12[0] == '-':\n",
    "        p12 = p12[1:]\n",
    "    for i in range(2):\n",
    "        if p12[i] == 'X':\n",
    "            circ.x(1 - i)\n",
    "        elif p12[i] == 'Y':\n",
    "            circ.y(1 - i)\n",
    "        elif p12[i] == 'Z':\n",
    "            circ.z(1 - i)\n",
    "    circ.reset(2)\n",
    "    circ.cnot(0, 1)\n",
    "    circ.unitary(id_gate3, [0, 1, 2], label='qi')\n",
    "    if alpha == 1:\n",
    "        circ.x(2)\n",
    "    circ.measure(2, cbit)\n",
    "    if p == 'X':\n",
    "        circ.x(0)\n",
    "    elif p == 'Y':\n",
    "        circ.y(0)\n",
    "    elif p == 'Z':\n",
    "        circ.z(0)\n",
    "    if gamma == 1:\n",
    "        circ.z(1)\n",
    "    if alpha == 1:\n",
    "        circ.x(1)\n",
    "\n",
    "    \n",
    "def noisy_sp(circ, p):\n",
    "    \"\"\"Noisy state preparation.\n",
    "    Though almost any initial state works for our protocol, it would be better for the initial state to big overlap with the ideal operator.\n",
    "    Here we assume that we prepare the eigen state of the ideal operator and then apply a special Pauli noise (same as the terminating measurement nosie).\n",
    "    \"\"\"\n",
    "    p = p[::-1]\n",
    "    for i in range(2):\n",
    "        if p[i] == 'I':\n",
    "            p = p[:i] + np.random.choice(['X', 'Y', 'Z']) + p[i + 1:]\n",
    "        if p[i] == 'X':\n",
    "            circ.h(i)\n",
    "        elif p[i] == 'Y':\n",
    "            circ.h(i)\n",
    "            circ.s(i)\n",
    "    circ.unitary(id_gate, [0, 1], label='spam')\n",
    "    \n",
    "\n",
    "def noisy_m(circ, p, cbit):\n",
    "    \"\"\"Noisy terminating measurement.\n",
    "    We apply a special Pauli noise and then make an ideal terminating measurement.\n",
    "    If the measured operator is I, then we will still make a measurement but will ignore the output.\n",
    "    \"\"\"\n",
    "    p = p[::-1]\n",
    "    circ.unitary(id_gate, [0, 1], label='spam')\n",
    "    for i in range(2):\n",
    "        if p[i] == 'I':\n",
    "            p = p[:i] + np.random.choice(['X', 'Y', 'Z']) + p[i + 1:]\n",
    "        if p[i] == 'X':\n",
    "            circ.h(i)\n",
    "        elif p[i] == 'Y':\n",
    "            circ.sdg(i)\n",
    "            circ.h(i)\n",
    "    circ.measure([0, 1], [cbit, cbit + 1])"
   ]
  },
  {
   "cell_type": "code",
   "execution_count": 3,
   "id": "7c92303a",
   "metadata": {},
   "outputs": [],
   "source": [
    "def str2idx(p): # II, IX, IY, IZ, XI, XX...\n",
    "    ret = 0\n",
    "    for i in range(2):\n",
    "        if p[i] == \"X\":\n",
    "            ret += 1 * 4 ** (1 - i)\n",
    "        elif p[i] == \"Y\":\n",
    "            ret += 2 * 4 ** (1 - i)\n",
    "        elif p[i] == \"Z\":\n",
    "            ret += 3 * 4 ** (1 - i)\n",
    "    return ret"
   ]
  },
  {
   "cell_type": "code",
   "execution_count": 4,
   "id": "b74cd82e",
   "metadata": {},
   "outputs": [],
   "source": [
    "def random_qi(noise_scale):\n",
    "    \"\"\"Generate a quantum instrument for noisy subsystem measurement.\n",
    "    It is hard to satisfy complete positivity if we construct arbitrarily.\n",
    "    So we have to rely on some physical structures.\n",
    "    We compose noise before measurement + misreport error + noise after measurement, then average several instances to form a joint probability distribution.\n",
    "    The helper channel is Q_0\\otimes I+Q_1\\otimes X.\n",
    "    \"\"\"\n",
    "    tot_q0 = np.zeros([16, 16], dtype=complex)\n",
    "    tot_q1 = np.zeros([16, 16], dtype=complex)\n",
    "    tot_weight = 0.0\n",
    "    for _ in range(8):\n",
    "        p01 = np.random.rand() * noise_scale\n",
    "        p10 = np.random.rand() * noise_scale\n",
    "        q0 = np.kron(np.array([[1-p01+p10,0,0,1-p01-p10],[0,0,0,0],[0,0,0,0],[1-p01-p10,0,0,1-p01+p10]])/2, np.eye(4))\n",
    "        q1 = np.kron(np.array([[1-p10+p01,0,0,-1+p10+p01],[0,0,0,0],[0,0,0,0],[-1+p10+p01,0,0,1-p10+p01]])/2, np.eye(4))\n",
    "        n00 = PTM(random_quantum_channel(input_dims=2, output_dims=2)).data * noise_scale + np.eye(4) * (1 - noise_scale)\n",
    "        n01 = PTM(random_quantum_channel(input_dims=2, output_dims=2)).data * noise_scale + np.eye(4) * (1 - noise_scale)\n",
    "        n10 = PTM(random_quantum_channel(input_dims=2, output_dims=2)).data * noise_scale + np.eye(4) * (1 - noise_scale)\n",
    "        n11 = PTM(random_quantum_channel(input_dims=2, output_dims=2)).data * noise_scale + np.eye(4) * (1 - noise_scale)\n",
    "        weight = np.random.rand()\n",
    "        tot_weight += weight\n",
    "        tot_q0 += np.kron(n00, n01) @ q0 @ np.kron(n10, n11) * weight\n",
    "        tot_q1 += np.kron(n00, n01) @ q1 @ np.kron(n10, n11) * weight\n",
    "    tot_q0 /= tot_weight\n",
    "    tot_q1 /= tot_weight\n",
    "    helper_chan = PTM(np.kron(np.eye(4), tot_q0) + np.kron(np.diag([1,1,-1,-1]), tot_q1))\n",
    "    assert helper_chan.is_cptp()\n",
    "    # now we have the instrument, calculate the error rates and fidelities\n",
    "    rate = {}\n",
    "    fid = defaultdict(float)\n",
    "    channels = [tot_q0, tot_q1]\n",
    "    p2 = ['I', 'Z']\n",
    "    p4 = ['I', 'X', 'Y', 'Z']\n",
    "    for a in range(2):\n",
    "        for b in range(2):\n",
    "            Lab = np.zeros(4)\n",
    "            for x in range(2):\n",
    "                for A in range(2):\n",
    "                    for B in range(4):\n",
    "                        for C in range(2):\n",
    "                            Lab[B] += np.real_if_close((-1) ** ((b + x) * A + (a + x) * C) * channels[x][str2idx(p2[A] + p4[B]), str2idx(p2[C] + p4[B])]) / 4\n",
    "            rate['I' + str(a) + str(b)] = (Lab[0] + Lab[1] + Lab[2] + Lab[3]) / 4\n",
    "            rate['X' + str(a) + str(b)] = (Lab[0] + Lab[1] - Lab[2] - Lab[3]) / 4\n",
    "            rate['Y' + str(a) + str(b)] = (Lab[0] - Lab[1] + Lab[2] - Lab[3]) / 4\n",
    "            rate['Z' + str(a) + str(b)] = (Lab[0] - Lab[1] - Lab[2] + Lab[3]) / 4\n",
    "            for B in range(4):\n",
    "                for c in range(2):\n",
    "                    for d in range(2):\n",
    "                        fid[p4[B] + str(c) + str(d)] += Lab[B] * (-1) ** (a * c + b * d)\n",
    "    return helper_chan, fid, rate"
   ]
  },
  {
   "cell_type": "code",
   "execution_count": 5,
   "id": "428db781",
   "metadata": {},
   "outputs": [],
   "source": [
    "\"\"\"\n",
    "The noise model.\n",
    "\"\"\"\n",
    "\n",
    "# Noises for measure-and-prepare mid-circuit measurement. Noises are Pauli channels.\n",
    "rate_pre = {}\n",
    "for i in [\"I\", \"X\", \"Y\", \"Z\"]:\n",
    "    for j in [\"I\", \"X\", \"Y\", \"Z\"]:\n",
    "        rate_pre[i+j] = np.random.rand() * 0.01 ** ((i != 'I') + (j != 'I'))\n",
    "rate_pre[\"II\"] += 1 - np.sum([v for v in rate_pre.values()])\n",
    "err_pre = pauli_error(list(rate_pre.items()))\n",
    "fid_pre = np.real_if_close(np.diag(PTM(err_pre).data))\n",
    "\n",
    "rate_post = {}\n",
    "for i in [\"I\", \"X\", \"Y\", \"Z\"]:\n",
    "    for j in [\"I\", \"X\", \"Y\", \"Z\"]:\n",
    "        rate_post[i+j] = np.random.rand() * 0.02 ** ((i != 'I') + (j != 'I'))\n",
    "rate_post[\"II\"] += 1 - np.sum([v for v in rate_post.values()])\n",
    "err_post = pauli_error(list(rate_post.items()))\n",
    "fid_post = np.real_if_close(np.diag(PTM(err_post).data))\n",
    "\n",
    "\"\"\"\n",
    "fid_refresh = {}\n",
    "for i in [\"I\", \"X\", \"Y\", \"Z\"]:\n",
    "    for j in [\"0\", \"1\"]:\n",
    "        for k in [\"0\", \"1\"]:\n",
    "            _, s, t = fid2st(i + j + k)\n",
    "            fid_refresh[i + j + k] = fid_pre[str2idx(s)] * fid_post[str2idx(t)]\n",
    "\"\"\"\n",
    "\n",
    "# Noises for spam error. Since state preparation error does not matter in our theory, we set SPAM error the same for simplicity.\n",
    "# Terminating measurement errors is a special kind of Pauli channel.\n",
    "rate_spam = {}\n",
    "for i in [[\"I\"], [\"X\", \"Y\", \"Z\"]]:\n",
    "    for j in [[\"I\"], [\"X\", \"Y\", \"Z\"]]:\n",
    "        rate = (1 + np.random.rand()) * 0.015 ** ((len(i) + len(j)) / 2 - 1)\n",
    "        for ii in i:\n",
    "            for jj in j:\n",
    "                rate_spam[ii + jj] = rate\n",
    "rate_spam[\"II\"] += 1 - np.sum([v for v in rate_spam.values()])\n",
    "err_spam = pauli_error(list(rate_spam.items()))\n",
    "\n",
    "# General noisy quantum instrument. Need to be compiled.\n",
    "err_qi, fid_qi, rate_qi = random_qi(0.002)\n",
    "\n",
    "# Put the noises into the simulator.\n",
    "noise_model = NoiseModel()\n",
    "noise_model.add_basis_gates(['unitary'])\n",
    "noise_model.add_all_qubit_quantum_error(err_pre, 'pre')\n",
    "noise_model.add_all_qubit_quantum_error(err_post, 'post')\n",
    "noise_model.add_all_qubit_quantum_error(err_spam, 'spam')\n",
    "noise_model.add_all_qubit_quantum_error(err_qi, 'qi')\n",
    "backend_noisy = AerSimulator(noise_model=noise_model)"
   ]
  },
  {
   "cell_type": "code",
   "execution_count": 6,
   "id": "9b2d9503",
   "metadata": {},
   "outputs": [],
   "source": [
    "def fid2st(fid):\n",
    "    s = fid[0]\n",
    "    t = fid[0]\n",
    "    if fid[1] == '0':\n",
    "        s = 'I' + s\n",
    "    else:\n",
    "        s = 'Z' + s\n",
    "    if fid[2] == '0':\n",
    "        t = 'I' + t\n",
    "    else:\n",
    "        t = 'Z' + t\n",
    "    cn_circ = QuantumCircuit(2, 0)\n",
    "    cn_circ.cnot(0, 1)\n",
    "    s = Pauli(s).evolve(cn_circ, frame='h').to_label()\n",
    "    sgn = 1\n",
    "    if s[0] == '-':\n",
    "        sgn *= -1\n",
    "        s = s[1:]\n",
    "    return sgn, s, t"
   ]
  },
  {
   "cell_type": "code",
   "execution_count": 7,
   "id": "1bb51dbb",
   "metadata": {},
   "outputs": [],
   "source": [
    "def learn_single_fid(fid, shots=10000, m_p=False):\n",
    "    \"\"\"Learn e+\\partial e\"\"\"\n",
    "    sgn, s, t = fid2st(fid)\n",
    "    s_avg = 0\n",
    "    for _ in range(100):\n",
    "        circ = QuantumCircuit(3, 3)\n",
    "        noisy_sp(circ, s)\n",
    "        if m_p:\n",
    "            noisy_mcm(circ, 0)\n",
    "        else:\n",
    "            compiled_mcm(circ, 0)\n",
    "        noisy_m(circ, t, 1)\n",
    "        counts = execute(circ, backend_noisy, shots=int(shots / 100)).result().get_counts()\n",
    "        for res in counts:\n",
    "            count = counts[res]\n",
    "            res_par = np.array([int(c) for c in res])[::-1]\n",
    "            for i in range(2):\n",
    "                if t[i] == 'I':\n",
    "                    res_par[2 - i] = 0\n",
    "            s_avg += sgn * count * (-1) ** (res_par[0] * (int(fid[1]) + int(fid[2])) + res_par[1] + res_par[2])\n",
    "    s_avg /= (int(shots / 100) * 100)\n",
    "    \n",
    "    circ2 = QuantumCircuit(2, 2)\n",
    "    noisy_sp(circ2, s)\n",
    "    noisy_m(circ2, s, 0)\n",
    "    counts = execute(circ2, backend_noisy, shots=shots).result().get_counts()\n",
    "    t_avg = 0\n",
    "    for res in counts:\n",
    "        count = counts[res]\n",
    "        res_par = np.array([int(c) for c in res])[::-1]\n",
    "        for i in range(2):\n",
    "            if s[i] == 'I':\n",
    "                res_par[1 - i] = 0\n",
    "        t_avg += count * (-1) ** (res_par[0] + res_par[1])\n",
    "    t_avg /= shots\n",
    "    return np.log(s_avg / t_avg)"
   ]
  },
  {
   "cell_type": "code",
   "execution_count": 16,
   "id": "62ce4bed",
   "metadata": {},
   "outputs": [],
   "source": [
    "learned_fid = {}\n",
    "for i in [\"I\", \"X\", \"Y\", \"Z\"]:\n",
    "    for j in [\"0\", \"1\"]:\n",
    "        for k in [\"0\", \"1\"]:\n",
    "            learned_fid[i + j + k] = learn_single_fid(i + j + k, shots=1000000, m_p=False)"
   ]
  },
  {
   "cell_type": "code",
   "execution_count": 10,
   "id": "345653f8",
   "metadata": {},
   "outputs": [
    {
     "name": "stdout",
     "output_type": "stream",
     "text": [
      "0.9862100728780039\n",
      "0.9920924281713054\n"
     ]
    }
   ],
   "source": [
    "# self loop is learnable\n",
    "print(np.exp(learned_fid[\"Y01\"]))\n",
    "print(fid_qi[\"Y01\"])"
   ]
  },
  {
   "cell_type": "code",
   "execution_count": 17,
   "id": "e9f36db5",
   "metadata": {},
   "outputs": [
    {
     "name": "stdout",
     "output_type": "stream",
     "text": [
      "0.987508250720592\n",
      "0.9883210015278241\n"
     ]
    }
   ],
   "source": [
    "# cycle is learnable\n",
    "print(np.exp(learned_fid[\"Z01\"] + learned_fid[\"X00\"]))\n",
    "print(fid_qi[\"Z01\"] * fid_qi[\"X00\"])"
   ]
  },
  {
   "cell_type": "code",
   "execution_count": 18,
   "id": "650891e6",
   "metadata": {},
   "outputs": [
    {
     "name": "stdout",
     "output_type": "stream",
     "text": [
      "0.9781101856274068\n",
      "0.9780066298274457\n"
     ]
    }
   ],
   "source": [
    "print(np.exp(learned_fid[\"I01\"] + learned_fid[\"Z10\"] + learned_fid[\"Z01\"] + learned_fid[\"I10\"]))\n",
    "print(fid_qi[\"I01\"] * fid_qi[\"Z10\"] * fid_qi[\"Z01\"] * fid_qi[\"I10\"])"
   ]
  },
  {
   "cell_type": "code",
   "execution_count": 19,
   "id": "5c08f5db",
   "metadata": {},
   "outputs": [
    {
     "name": "stdout",
     "output_type": "stream",
     "text": [
      "0.9217196224875873\n",
      "0.9923239966504842\n"
     ]
    }
   ],
   "source": [
    "# simple edge is not learnable\n",
    "print(np.exp(learned_fid[\"Z01\"]))\n",
    "print(fid_qi[\"Z01\"])"
   ]
  },
  {
   "cell_type": "code",
   "execution_count": 21,
   "id": "c1ad6be6",
   "metadata": {},
   "outputs": [
    {
     "name": "stdout",
     "output_type": "stream",
     "text": [
      "0.0038040322214518\n",
      "0.003251117035598959\n"
     ]
    }
   ],
   "source": [
    "# Testing the independence of measurement and state preparation.\n",
    "print((learned_fid[\"Z00\"] + learned_fid[\"Z11\"]) - (learned_fid[\"Z01\"] + learned_fid[\"Z10\"]))\n",
    "# Though the result is small, its deviation from 0 is greater than standard deviation.\n",
    "print(np.log(fid_qi[\"Z00\"] * fid_qi[\"Z11\"]) - np.log(fid_qi[\"Z01\"] * fid_qi[\"Z10\"]))"
   ]
  },
  {
   "cell_type": "code",
   "execution_count": 22,
   "id": "9969d774",
   "metadata": {},
   "outputs": [],
   "source": [
    "learned_fid = {}\n",
    "for i in [\"I\", \"X\", \"Y\", \"Z\"]:\n",
    "    for j in [\"0\", \"1\"]:\n",
    "        for k in [\"0\", \"1\"]:\n",
    "            learned_fid[i + j + k] = learn_single_fid(i + j + k, shots=1000000, m_p=True)"
   ]
  },
  {
   "cell_type": "code",
   "execution_count": 23,
   "id": "5bd9d0ef",
   "metadata": {},
   "outputs": [
    {
     "data": {
      "text/plain": [
       "0.001639604875861872"
      ]
     },
     "execution_count": 23,
     "metadata": {},
     "output_type": "execute_result"
    }
   ],
   "source": [
    "# Testing the independence of measurement and state preparation.\n",
    "learned_fid[\"Z00\"]+learned_fid[\"Z11\"]-learned_fid[\"Z01\"]-learned_fid[\"Z10\"]\n",
    "# This time the result is within standard deviation"
   ]
  },
  {
   "cell_type": "code",
   "execution_count": 24,
   "id": "8d57f358",
   "metadata": {},
   "outputs": [],
   "source": [
    "def noiseless_concat(circ, t, s):\n",
    "    \"\"\"Append the single qubit Clifford gates.\"\"\"\n",
    "    for i in range(2):\n",
    "        if t[i] != s[i]:\n",
    "            if t[i] == 'I' or s[i] == 'I':\n",
    "                raise ValueError('Mismatched Pauli pattern.')\n",
    "            if t[i] == 'X':\n",
    "                if s[i] == 'Y':\n",
    "                    circ.s(1 - i)\n",
    "                else:\n",
    "                    circ.h(1 - i)\n",
    "            elif t[i] == 'Y':\n",
    "                if s[i] == 'Z':\n",
    "                    circ.sdg(1 - i)\n",
    "                    circ.h(1 - i)\n",
    "                else:\n",
    "                    circ.sdg(1 - i)\n",
    "            else:\n",
    "                if s[i] == 'X':\n",
    "                    circ.h(1 - i)\n",
    "                else:\n",
    "                    circ.h(1 - i)\n",
    "                    circ.s(1 - i)"
   ]
  },
  {
   "cell_type": "code",
   "execution_count": 25,
   "id": "8832eff6",
   "metadata": {},
   "outputs": [],
   "source": [
    "def learn_multiple_fid(fids, shots=10000, m_p=False): # add logic for m_p\n",
    "    \"\"\"Learn a path\"\"\"\n",
    "    if m_p:\n",
    "        mcm = noisy_mcm\n",
    "    else:\n",
    "        mcm = compiled_mcm\n",
    "    l = len(fids)\n",
    "    ss = [\"\"] * l\n",
    "    ts = [\"\"] * l\n",
    "    tot_sgn = 1\n",
    "    for i in range(l):\n",
    "        sgn, ss[i], ts[i] = fid2st(fids[i])\n",
    "        tot_sgn *= sgn\n",
    "    s_avg = 0\n",
    "    for _ in range(100):\n",
    "        circ = QuantumCircuit(3, l + 2)\n",
    "        noisy_sp(circ, ss[0])\n",
    "        for i in range(l - 1):\n",
    "            mcm(circ, i)\n",
    "            noiseless_concat(circ, ts[i], ss[i + 1])\n",
    "        mcm(circ, l - 1)\n",
    "        noisy_m(circ, ts[l - 1], l)\n",
    "        counts = execute(circ, backend_noisy, shots=int(shots / 100)).result().get_counts()\n",
    "        for res in counts:\n",
    "            count = counts[res]\n",
    "            res_par = np.array([int(c) for c in res])[::-1]\n",
    "            for i in range(2):\n",
    "                if ts[l - 1][i] == 'I':\n",
    "                    res_par[l + 1 - i] = 0\n",
    "            mxy = 0\n",
    "            for i in range(l):\n",
    "                mxy += res_par[i] * (int(fids[i][1]) + int(fids[i][2]))\n",
    "            s_avg += tot_sgn * count * (-1) ** (mxy + res_par[l] + res_par[l + 1])\n",
    "    s_avg /= (int(shots / 100) * 100)\n",
    "    \n",
    "    circ2 = QuantumCircuit(2, 2)\n",
    "    noisy_sp(circ2, ss[0])\n",
    "    noisy_m(circ2, ss[0], 0)\n",
    "    counts = execute(circ2, backend_noisy, shots=shots).result().get_counts()\n",
    "    t_avg = 0\n",
    "    for res in counts:\n",
    "        count = counts[res]\n",
    "        res_par = np.array([int(c) for c in res])[::-1]\n",
    "        for i in range(2):\n",
    "            if ss[0][i] == 'I':\n",
    "                res_par[1 - i] = 0\n",
    "        t_avg += count * (-1) ** (res_par[0] + res_par[1])\n",
    "    t_avg /= shots\n",
    "    return np.log(s_avg / t_avg)"
   ]
  },
  {
   "cell_type": "code",
   "execution_count": 26,
   "id": "89a019f4",
   "metadata": {},
   "outputs": [
    {
     "name": "stdout",
     "output_type": "stream",
     "text": [
      "0.9449461429659448\n",
      "0.9460714913861634\n",
      "0.0007311721345428946\n"
     ]
    }
   ],
   "source": [
    "targ = ['X11','Y11', 'Y00', 'Z01', 'X00', 'Z00', 'Z01', 'I11', 'Z11']\n",
    "learned_res = learn_multiple_fid(targ, shots=100000, m_p=False) \n",
    "print(np.exp(learned_res)) # learned value of this product\n",
    "print(np.prod([fid_qi[i] for i in targ])) # true value of this product\n",
    "targ = ['Y01','X10', 'Z01', 'X01', 'Y10', 'Z01', 'I10', 'I01', 'Z10', 'Z01']\n",
    "learned_res -= learn_multiple_fid(targ, shots=100000, m_p=False)\n",
    "print(learned_res / 16) # learned p^I_{11}"
   ]
  },
  {
   "cell_type": "code",
   "execution_count": 28,
   "id": "b09c409b",
   "metadata": {},
   "outputs": [
    {
     "name": "stdout",
     "output_type": "stream",
     "text": [
      "0.0008088998585483384\n"
     ]
    }
   ],
   "source": [
    "print(rate_qi['I11']) # true value of p^I_{11}"
   ]
  },
  {
   "cell_type": "code",
   "execution_count": 29,
   "id": "400d3ddb",
   "metadata": {},
   "outputs": [
    {
     "name": "stdout",
     "output_type": "stream",
     "text": [
      "0.0008126760418828219\n"
     ]
    }
   ],
   "source": [
    "pI11_apx = 0.\n",
    "for k, v in fid_qi.items():\n",
    "    pI11_apx += (1 + np.log(v)) * (-1) ** (int(k[1]) + int(k[2]))\n",
    "pI11_apx /= 16\n",
    "print(pI11_apx) # p^I_{11} under first order approximation=0"
   ]
  },
  {
   "cell_type": "code",
   "execution_count": 30,
   "id": "aa420220",
   "metadata": {},
   "outputs": [
    {
     "name": "stdout",
     "output_type": "stream",
     "text": [
      "0.995227543094729\n",
      "0.9952675190723601\n"
     ]
    }
   ],
   "source": [
    "targ = ['I00', 'I01', 'Z11', 'I11', 'Z10', 'Z00', 'Z01', 'I10']\n",
    "print(learn_multiple_fid(targ, shots=100000, m_p=False) / 8 + 1) # Learned value of p^I_{00} + p^Z_{00}\n",
    "print(rate_qi['I00'] + rate_qi['Z00']) # True value of p^I_{00} + p^Z_{00}"
   ]
  },
  {
   "cell_type": "code",
   "execution_count": 31,
   "id": "17e03666",
   "metadata": {},
   "outputs": [
    {
     "name": "stdout",
     "output_type": "stream",
     "text": [
      "0.9952530241138203\n"
     ]
    }
   ],
   "source": [
    "pI00Z00_apx = 0\n",
    "for k, v in fid_qi.items():\n",
    "    if k[0] == 'I' or k[0] == 'Z':\n",
    "        pI00Z00_apx += 1 + np.log(v)\n",
    "pI00Z00_apx /= 8\n",
    "print(pI00Z00_apx) # p^I_{00} + p^Z_{00} under first order approximation"
   ]
  },
  {
   "cell_type": "code",
   "execution_count": null,
   "id": "50360204",
   "metadata": {},
   "outputs": [],
   "source": []
  }
 ],
 "metadata": {
  "kernelspec": {
   "display_name": "Python 3 (ipykernel)",
   "language": "python",
   "name": "python3"
  },
  "language_info": {
   "codemirror_mode": {
    "name": "ipython",
    "version": 3
   },
   "file_extension": ".py",
   "mimetype": "text/x-python",
   "name": "python",
   "nbconvert_exporter": "python",
   "pygments_lexer": "ipython3",
   "version": "3.9.18"
  }
 },
 "nbformat": 4,
 "nbformat_minor": 5
}
