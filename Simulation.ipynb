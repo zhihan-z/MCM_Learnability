{
 "cells": [
  {
   "cell_type": "code",
   "execution_count": 1,
   "id": "86141ca3",
   "metadata": {},
   "outputs": [],
   "source": [
    "from qiskit import QuantumCircuit, execute\n",
    "from qiskit_aer import AerSimulator\n",
    "from qiskit.visualization import plot_histogram\n",
    "from qiskit_aer.noise import NoiseModel, QuantumError, pauli_error\n",
    "from qiskit.quantum_info import Operator, PTM, Pauli\n",
    "import numpy as np\n",
    "import random"
   ]
  },
  {
   "cell_type": "code",
   "execution_count": 2,
   "id": "33bc4061",
   "metadata": {},
   "outputs": [],
   "source": [
    "id_gate = Operator(np.eye(4))\n",
    "\n",
    "\n",
    "def noisy_mcm(circ, cbit):\n",
    "    \"\"\"Noisy mid-circuit measurement.\n",
    "    The measurement is in the measure-and-prepare fashion:\n",
    "    We apply a Pauli noise, then an ideal mid-circuit measurement, followed by another Pauli noise.\n",
    "    \"\"\"\n",
    "    circ.cnot(0, 1)\n",
    "    circ.unitary(id_gate, [0, 1], label='pre')\n",
    "    circ.measure(1, cbit)\n",
    "    circ.unitary(id_gate, [0, 1], label='post')\n",
    "\n",
    "    \n",
    "def noisy_sp(circ, p):\n",
    "    \"\"\"Noisy state preparation.\n",
    "    Though almost any initial state works for our protocol, it would be better for the initial state to big overlap with the ideal operator.\n",
    "    Here we assume that we prepare the eigen state of the ideal operator and then apply a special Pauli noise (same as the terminating measurement nosie).\n",
    "    \"\"\"\n",
    "    p = p[::-1]\n",
    "    for i in range(2):\n",
    "        if p[i] == 'I':\n",
    "            p = p[:i] + random.choice(['X', 'Y', 'Z']) + p[i + 1:]\n",
    "        if p[i] == 'X':\n",
    "            circ.h(i)\n",
    "        elif p[i] == 'Y':\n",
    "            circ.h(i)\n",
    "            circ.s(i)\n",
    "    circ.unitary(id_gate, [0, 1], label='spam')\n",
    "    \n",
    "\n",
    "def noisy_m(circ, p, cbit):\n",
    "    \"\"\"Noisy terminating measurement.\n",
    "    We apply a special Pauli noise and then make an ideal terminating measurement.\n",
    "    If the measured operator is I, then we will still make a measurement but will ignore the output.\n",
    "    \"\"\"\n",
    "    p = p[::-1]\n",
    "    circ.unitary(id_gate, [0, 1], label='spam')\n",
    "    for i in range(2):\n",
    "        if p[i] == 'I':\n",
    "            p = p[:i] + random.choice(['X', 'Y', 'Z']) + p[i + 1:]\n",
    "        if p[i] == 'X':\n",
    "            circ.h(i)\n",
    "        elif p[i] == 'Y':\n",
    "            circ.sdg(i)\n",
    "            circ.h(i)\n",
    "    circ.measure([0, 1], [cbit, cbit + 1])"
   ]
  },
  {
   "cell_type": "code",
   "execution_count": 3,
   "id": "428db781",
   "metadata": {},
   "outputs": [],
   "source": [
    "\"\"\"\n",
    "The noise model.\n",
    "\"\"\"\n",
    "rate_pre = {}\n",
    "for i in [\"I\", \"X\", \"Y\", \"Z\"]:\n",
    "    for j in [\"I\", \"X\", \"Y\", \"Z\"]:\n",
    "        rate_pre[i+j] = np.random.rand() * 0.01\n",
    "rate_pre[\"II\"] += 1 - np.sum([v for v in rate_pre.values()])\n",
    "err_pre = pauli_error(list(rate_pre.items()))\n",
    "fid_pre = np.real_if_close(np.diag(PTM(err_pre).data))\n",
    "\n",
    "rate_post = {}\n",
    "for i in [\"I\", \"X\", \"Y\", \"Z\"]:\n",
    "    for j in [\"I\", \"X\", \"Y\", \"Z\"]:\n",
    "        rate_post[i+j] = np.random.rand() * 0.02\n",
    "rate_post[\"II\"] += 1 - np.sum([v for v in rate_post.values()])\n",
    "err_post = pauli_error(list(rate_post.items()))\n",
    "fid_post = np.real_if_close(np.diag(PTM(err_post).data))\n",
    "\n",
    "rate_spam = {}\n",
    "for i in [[\"I\"], [\"X\", \"Y\", \"Z\"]]:\n",
    "    for j in [[\"I\"], [\"X\", \"Y\", \"Z\"]]:\n",
    "        rate = (np.random.rand() + len(i) + len(j)) * 0.005 # to make unlearnable info obviously wrong\n",
    "        for ii in i:\n",
    "            for jj in j:\n",
    "                rate_spam[ii + jj] = rate\n",
    "rate_spam[\"II\"] += 1 - np.sum([v for v in rate_spam.values()])\n",
    "err_spam = pauli_error(list(rate_spam.items()))\n",
    "\n",
    "noise_model = NoiseModel()\n",
    "noise_model.add_basis_gates(['unitary'])\n",
    "noise_model.add_all_qubit_quantum_error(err_pre, 'pre')\n",
    "noise_model.add_all_qubit_quantum_error(err_post, 'post')\n",
    "noise_model.add_all_qubit_quantum_error(err_spam, 'spam')\n",
    "backend_noisy = AerSimulator(noise_model=noise_model)"
   ]
  },
  {
   "cell_type": "code",
   "execution_count": 4,
   "id": "9b2d9503",
   "metadata": {},
   "outputs": [],
   "source": [
    "def fid2st(fid):\n",
    "    s = fid[0]\n",
    "    t = fid[0]\n",
    "    if fid[1] == '0':\n",
    "        s = 'I' + s\n",
    "    else:\n",
    "        s = 'Z' + s\n",
    "    if fid[2] == '0':\n",
    "        t = 'I' + t\n",
    "    else:\n",
    "        t = 'Z' + t\n",
    "    cn_circ = QuantumCircuit(2, 0)\n",
    "    cn_circ.cnot(0, 1)\n",
    "    s = Pauli(s).evolve(cn_circ, frame='h').to_label()\n",
    "    sgn = 1\n",
    "    if s[0] == '-':\n",
    "        sgn *= -1\n",
    "        s = s[1:]\n",
    "    return sgn, s, t"
   ]
  },
  {
   "cell_type": "code",
   "execution_count": 57,
   "id": "1bb51dbb",
   "metadata": {},
   "outputs": [],
   "source": [
    "def learn_single_fid(fid, shots=10000):\n",
    "    \"\"\"Learn e+\\partial e\"\"\"\n",
    "    sgn, s, t = fid2st(fid)\n",
    "    circ = QuantumCircuit(2, 3)\n",
    "    noisy_sp(circ, s)\n",
    "    noisy_mcm(circ, 0)\n",
    "    noisy_m(circ, t, 1)\n",
    "    counts = execute(circ, backend_noisy, shots=shots).result().get_counts()\n",
    "    s_avg = 0\n",
    "    for res in counts:\n",
    "        count = counts[res]\n",
    "        res_par = np.array([int(c) for c in res])[::-1]\n",
    "        for i in range(2):\n",
    "            if t[i] == 'I':\n",
    "                res_par[2 - i] = 0\n",
    "        s_avg += sgn * count * (-1) ** (res_par[0] * (int(fid[1]) + int(fid[2])) + res_par[1] + res_par[2])\n",
    "    s_avg /= shots\n",
    "    \n",
    "    circ2 = QuantumCircuit(2, 2)\n",
    "    noisy_sp(circ2, s)\n",
    "    noisy_m(circ2, s, 0)\n",
    "    counts = execute(circ2, backend_noisy, shots=shots).result().get_counts()\n",
    "    t_avg = 0\n",
    "    for res in counts:\n",
    "        count = counts[res]\n",
    "        res_par = np.array([int(c) for c in res])[::-1]\n",
    "        for i in range(2):\n",
    "            if s[i] == 'I':\n",
    "                res_par[1 - i] = 0\n",
    "        t_avg += count * (-1) ** (res_par[0] + res_par[1])\n",
    "    t_avg /= shots\n",
    "    return np.log(s_avg / t_avg)"
   ]
  },
  {
   "cell_type": "code",
   "execution_count": 6,
   "id": "62ce4bed",
   "metadata": {},
   "outputs": [],
   "source": [
    "learned_fid = {}\n",
    "for i in [\"I\", \"X\", \"Y\", \"Z\"]:\n",
    "    for j in [\"0\", \"1\"]:\n",
    "        for k in [\"0\", \"1\"]:\n",
    "            learned_fid[i + j + k] = learn_single_fid(i + j + k, shots=100000)"
   ]
  },
  {
   "cell_type": "code",
   "execution_count": 7,
   "id": "3fe8728f",
   "metadata": {},
   "outputs": [
    {
     "data": {
      "text/plain": [
       "0.003984899823260057"
      ]
     },
     "execution_count": 7,
     "metadata": {},
     "output_type": "execute_result"
    }
   ],
   "source": [
    "# lemma 5\n",
    "learned_fid[\"Z00\"]+learned_fid[\"Z11\"]-learned_fid[\"Z01\"]-learned_fid[\"Z10\"]"
   ]
  },
  {
   "cell_type": "code",
   "execution_count": 8,
   "id": "6da542bc",
   "metadata": {},
   "outputs": [],
   "source": [
    "def str2idx(p): # II, IX, IY, IZ, XI, XX...\n",
    "    ret = 0\n",
    "    for i in range(2):\n",
    "        if p[i] == \"X\":\n",
    "            ret += 1 * 4 ** (1 - i)\n",
    "        elif p[i] == \"Y\":\n",
    "            ret += 2 * 4 ** (1 - i)\n",
    "        elif p[i] == \"Z\":\n",
    "            ret += 3 * 4 ** (1 - i)\n",
    "    return ret"
   ]
  },
  {
   "cell_type": "code",
   "execution_count": 80,
   "id": "d5a16893",
   "metadata": {},
   "outputs": [],
   "source": [
    "true_fid = {}\n",
    "for i in [\"I\", \"X\", \"Y\", \"Z\"]:\n",
    "    for j in [\"0\", \"1\"]:\n",
    "        for k in [\"0\", \"1\"]:\n",
    "            _, s, t = fid2st(i + j + k)\n",
    "            true_fid[i + j + k] = fid_pre[str2idx(s)] * fid_post[str2idx(t)]"
   ]
  },
  {
   "cell_type": "code",
   "execution_count": 10,
   "id": "345653f8",
   "metadata": {},
   "outputs": [
    {
     "name": "stdout",
     "output_type": "stream",
     "text": [
      "0.8059971323483572\n",
      "0.8042725608862727\n"
     ]
    }
   ],
   "source": [
    "# self loop is learnable\n",
    "print(np.exp(learned_fid[\"Y01\"]))\n",
    "print(np.real_if_close(true_fid[\"Y01\"]))"
   ]
  },
  {
   "cell_type": "code",
   "execution_count": 11,
   "id": "e9f36db5",
   "metadata": {},
   "outputs": [
    {
     "name": "stdout",
     "output_type": "stream",
     "text": [
      "0.5708322676213492\n",
      "0.5804743120670213\n"
     ]
    }
   ],
   "source": [
    "# cycle is learnable\n",
    "print(np.exp(learned_fid[\"Z01\"] + learned_fid[\"X00\"]))\n",
    "print(np.real_if_close(true_fid[\"Z01\"] * true_fid[\"X00\"]))"
   ]
  },
  {
   "cell_type": "code",
   "execution_count": 12,
   "id": "5c08f5db",
   "metadata": {},
   "outputs": [
    {
     "name": "stdout",
     "output_type": "stream",
     "text": [
      "0.7965055762081784\n",
      "0.7485210658487629\n"
     ]
    }
   ],
   "source": [
    "# simple edge is not learnable\n",
    "print(np.exp(learned_fid[\"Z01\"]))\n",
    "print(np.real_if_close(true_fid[\"Z01\"]))"
   ]
  },
  {
   "cell_type": "code",
   "execution_count": 16,
   "id": "8d57f358",
   "metadata": {},
   "outputs": [],
   "source": [
    "def noiseless_concat(circ, t, s):\n",
    "    for i in range(2):\n",
    "        if t[i] != s[i]:\n",
    "            if t[i] == 'I' or s[i] == 'I':\n",
    "                raise ValueError('Mismatched Pauli pattern.')\n",
    "            if t[i] == 'X':\n",
    "                if s[i] == 'Y':\n",
    "                    circ.s(1 - i)\n",
    "                else:\n",
    "                    circ.h(1 - i)\n",
    "            elif t[i] == 'Y':\n",
    "                if s[i] == 'Z':\n",
    "                    circ.sdg(1 - i)\n",
    "                    circ.h(1 - i)\n",
    "                else:\n",
    "                    circ.sdg(1 - i)\n",
    "            else:\n",
    "                if s[i] == 'X':\n",
    "                    circ.h(1 - i)\n",
    "                else:\n",
    "                    circ.h(1 - i)\n",
    "                    circ.s(1 - i)"
   ]
  },
  {
   "cell_type": "code",
   "execution_count": 56,
   "id": "8832eff6",
   "metadata": {},
   "outputs": [],
   "source": [
    "def learn_multiple_fid(fids, shots=10000):\n",
    "    \"\"\"Learn a path\"\"\"\n",
    "    l = len(fids)\n",
    "    ss = [\"\"] * l\n",
    "    ts = [\"\"] * l\n",
    "    tot_sgn = 1\n",
    "    for i in range(l):\n",
    "        sgn, ss[i], ts[i] = fid2st(fids[i])\n",
    "        tot_sgn *= sgn\n",
    "    circ = QuantumCircuit(2, l + 2)\n",
    "    noisy_sp(circ, ss[0])\n",
    "    for i in range(l - 1):\n",
    "        noisy_mcm(circ, i)\n",
    "        noiseless_concat(circ, ts[i], ss[i + 1])\n",
    "    noisy_mcm(circ, l - 1)\n",
    "    noisy_m(circ, ts[l - 1], l)\n",
    "    counts = execute(circ, backend_noisy, shots=shots).result().get_counts()\n",
    "    s_avg = 0\n",
    "    for res in counts:\n",
    "        count = counts[res]\n",
    "        res_par = np.array([int(c) for c in res])[::-1]\n",
    "        for i in range(2):\n",
    "            if ts[l - 1][i] == 'I':\n",
    "                res_par[l + 1 - i] = 0\n",
    "        mxy = 0\n",
    "        for i in range(l):\n",
    "            mxy += res_par[i] * (int(fids[i][1]) + int(fids[i][2]))\n",
    "        s_avg += tot_sgn * count * (-1) ** (mxy + res_par[l] + res_par[l + 1])\n",
    "    s_avg /= shots\n",
    "    \n",
    "    circ2 = QuantumCircuit(2, 2)\n",
    "    noisy_sp(circ2, ss[0])\n",
    "    noisy_m(circ2, ss[0], 0)\n",
    "    counts = execute(circ2, backend_noisy, shots=shots).result().get_counts()\n",
    "    t_avg = 0\n",
    "    for res in counts:\n",
    "        count = counts[res]\n",
    "        res_par = np.array([int(c) for c in res])[::-1]\n",
    "        for i in range(2):\n",
    "            if ss[0][i] == 'I':\n",
    "                res_par[1 - i] = 0\n",
    "        t_avg += count * (-1) ** (res_par[0] + res_par[1])\n",
    "    t_avg /= shots\n",
    "    return np.log(s_avg / t_avg)"
   ]
  },
  {
   "cell_type": "code",
   "execution_count": 76,
   "id": "89a019f4",
   "metadata": {},
   "outputs": [
    {
     "name": "stdout",
     "output_type": "stream",
     "text": [
      "0.10759375583058647\n",
      "0.10143446022410743\n",
      "-0.0022787542950186424\n"
     ]
    }
   ],
   "source": [
    "targ = ['X11','Y11', 'Y00', 'Z01', 'X00', 'Z00', 'Z01', 'I11', 'Z11']\n",
    "learned_res = learn_multiple_fid(targ, shots=100000) \n",
    "print(np.exp(learned_res)) # learned value of this product\n",
    "print(np.real_if_close(np.prod([true_fid[i] for i in targ]))) # true value of this product\n",
    "targ = ['Y01','X10', 'Z01', 'X01', 'Y10', 'Z01', 'I10', 'I01', 'Z10', 'Z01']\n",
    "learned_res -= learn_multiple_fid(targ, shots=100000)\n",
    "print(learned_res / 16) # learned p^I_{11}"
   ]
  },
  {
   "cell_type": "code",
   "execution_count": 81,
   "id": "b09c409b",
   "metadata": {},
   "outputs": [
    {
     "name": "stdout",
     "output_type": "stream",
     "text": [
      "0.0007234988162280395\n"
     ]
    }
   ],
   "source": [
    "pI11 = 0.\n",
    "for k, v in true_fid.items():\n",
    "    pI11 += v * (-1) ** (int(k[1]) + int(k[2]))\n",
    "pI11 /= 16\n",
    "print(pI11) # true value of p^I_{00}"
   ]
  },
  {
   "cell_type": "code",
   "execution_count": 82,
   "id": "400d3ddb",
   "metadata": {},
   "outputs": [
    {
     "name": "stdout",
     "output_type": "stream",
     "text": [
      "6.938893903907228e-18\n"
     ]
    }
   ],
   "source": [
    "pI11_apx = 0.\n",
    "for k, v in true_fid.items():\n",
    "    pI11_apx += (1 + np.log(v)) * (-1) ** (int(k[1]) + int(k[2]))\n",
    "pI11_apx /= 16\n",
    "print(pI11_apx) # under first order approximation p^I_{00}=0 (lemma 5)"
   ]
  },
  {
   "cell_type": "code",
   "execution_count": 84,
   "id": "aa420220",
   "metadata": {},
   "outputs": [
    {
     "name": "stdout",
     "output_type": "stream",
     "text": [
      "0.8033738055224313\n"
     ]
    }
   ],
   "source": [
    "targ = ['I00', 'I01', 'Z11', 'I11', 'Z10', 'Z00', 'Z01', 'I10']\n",
    "print(learn_multiple_fid(targ, shots=100000) / 8 + 1) # learned value of p^I_{00} + p^Z_{00}"
   ]
  },
  {
   "cell_type": "code",
   "execution_count": 86,
   "id": "e7c55fc0",
   "metadata": {},
   "outputs": [
    {
     "name": "stdout",
     "output_type": "stream",
     "text": [
      "0.8249444717056876\n"
     ]
    }
   ],
   "source": [
    "pI00Z00 = 0\n",
    "for k, v in true_fid.items():\n",
    "    if k[0] == 'I' or k[0] == 'Z':\n",
    "        pI00Z00 += v\n",
    "pI00Z00 /= 8\n",
    "print(pI00Z00) # true value of p^I_{00} + p^Z_{00}"
   ]
  },
  {
   "cell_type": "code",
   "execution_count": 87,
   "id": "17e03666",
   "metadata": {},
   "outputs": [
    {
     "name": "stdout",
     "output_type": "stream",
     "text": [
      "0.8018906890961874\n"
     ]
    }
   ],
   "source": [
    "pI00Z00_apx = 0\n",
    "for k, v in true_fid.items():\n",
    "    if k[0] == 'I' or k[0] == 'Z':\n",
    "        pI00Z00_apx += 1 + np.log(v)\n",
    "pI00Z00_apx /= 8\n",
    "print(pI00Z00_apx) # p^I_{00} + p^Z_{00} under first order approximation, one can see that error mostly come from the approximation"
   ]
  },
  {
   "cell_type": "code",
   "execution_count": null,
   "id": "291f98f0",
   "metadata": {},
   "outputs": [],
   "source": []
  }
 ],
 "metadata": {
  "kernelspec": {
   "display_name": "Python 3 (ipykernel)",
   "language": "python",
   "name": "python3"
  },
  "language_info": {
   "codemirror_mode": {
    "name": "ipython",
    "version": 3
   },
   "file_extension": ".py",
   "mimetype": "text/x-python",
   "name": "python",
   "nbconvert_exporter": "python",
   "pygments_lexer": "ipython3",
   "version": "3.9.18"
  }
 },
 "nbformat": 4,
 "nbformat_minor": 5
}
